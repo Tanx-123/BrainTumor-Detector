{
 "cells": [
  {
   "cell_type": "code",
   "execution_count": 1,
   "source": [
    "import numpy as np\r\n",
    "import pandas as pd\r\n",
    "import os\r\n",
    "from tensorflow.keras.applications.vgg16 import preprocess_input\r\n",
    "import tensorflow\r\n",
    "from tensorflow import keras\r\n",
    "from tensorflow.keras.preprocessing.image import ImageDataGenerator, load_img\r\n",
    "from sklearn.model_selection import train_test_split\r\n",
    "from tensorflow.keras.models import Sequential\r\n",
    "from tensorflow.keras.layers import Dense,Flatten,Dropout\r\n",
    "import os\r\n",
    "import matplotlib.pyplot as plt"
   ],
   "outputs": [],
   "metadata": {}
  },
  {
   "cell_type": "code",
   "execution_count": 2,
   "source": [
    "tumor_path='Brain Tumor Data Set/Brain Tumor/'\r\n",
    "healthy_path='Brain Tumor Data Set/Healthy/'\r\n",
    "filepaths = []\r\n",
    "labels= []\r\n",
    "dict_list = [tumor_path, healthy_path]\r\n",
    "for i, j in enumerate(dict_list):\r\n",
    "    flist=os.listdir(j)\r\n",
    "    for f in flist:\r\n",
    "        fpath=os.path.join(j,f)\r\n",
    "        filepaths.append(fpath)\r\n",
    "        if i==0:\r\n",
    "            labels.append('Brain Tumor')\r\n",
    "        else:\r\n",
    "            labels.append('Healthy')\r\n",
    "df=pd.DataFrame({'Filepath': filepaths,'label': labels})\r\n",
    "df.head()"
   ],
   "outputs": [
    {
     "output_type": "execute_result",
     "data": {
      "text/plain": [
       "                                           Filepath        label\n",
       "0   Brain Tumor Data Set/Brain Tumor/Cancer (1).jpg  Brain Tumor\n",
       "1   Brain Tumor Data Set/Brain Tumor/Cancer (1).png  Brain Tumor\n",
       "2   Brain Tumor Data Set/Brain Tumor/Cancer (1).tif  Brain Tumor\n",
       "3  Brain Tumor Data Set/Brain Tumor/Cancer (10).jpg  Brain Tumor\n",
       "4  Brain Tumor Data Set/Brain Tumor/Cancer (10).tif  Brain Tumor"
      ],
      "text/html": [
       "<div>\n",
       "<style scoped>\n",
       "    .dataframe tbody tr th:only-of-type {\n",
       "        vertical-align: middle;\n",
       "    }\n",
       "\n",
       "    .dataframe tbody tr th {\n",
       "        vertical-align: top;\n",
       "    }\n",
       "\n",
       "    .dataframe thead th {\n",
       "        text-align: right;\n",
       "    }\n",
       "</style>\n",
       "<table border=\"1\" class=\"dataframe\">\n",
       "  <thead>\n",
       "    <tr style=\"text-align: right;\">\n",
       "      <th></th>\n",
       "      <th>Filepath</th>\n",
       "      <th>label</th>\n",
       "    </tr>\n",
       "  </thead>\n",
       "  <tbody>\n",
       "    <tr>\n",
       "      <th>0</th>\n",
       "      <td>Brain Tumor Data Set/Brain Tumor/Cancer (1).jpg</td>\n",
       "      <td>Brain Tumor</td>\n",
       "    </tr>\n",
       "    <tr>\n",
       "      <th>1</th>\n",
       "      <td>Brain Tumor Data Set/Brain Tumor/Cancer (1).png</td>\n",
       "      <td>Brain Tumor</td>\n",
       "    </tr>\n",
       "    <tr>\n",
       "      <th>2</th>\n",
       "      <td>Brain Tumor Data Set/Brain Tumor/Cancer (1).tif</td>\n",
       "      <td>Brain Tumor</td>\n",
       "    </tr>\n",
       "    <tr>\n",
       "      <th>3</th>\n",
       "      <td>Brain Tumor Data Set/Brain Tumor/Cancer (10).jpg</td>\n",
       "      <td>Brain Tumor</td>\n",
       "    </tr>\n",
       "    <tr>\n",
       "      <th>4</th>\n",
       "      <td>Brain Tumor Data Set/Brain Tumor/Cancer (10).tif</td>\n",
       "      <td>Brain Tumor</td>\n",
       "    </tr>\n",
       "  </tbody>\n",
       "</table>\n",
       "</div>"
      ]
     },
     "metadata": {},
     "execution_count": 2
    }
   ],
   "metadata": {}
  },
  {
   "cell_type": "code",
   "execution_count": 3,
   "source": [
    "train_df, val_df = train_test_split(df, test_size=0.3, random_state=42)"
   ],
   "outputs": [],
   "metadata": {}
  },
  {
   "cell_type": "code",
   "execution_count": 4,
   "source": [
    "total_train = train_df.shape[0]\r\n",
    "total_valid = val_df.shape[0]"
   ],
   "outputs": [],
   "metadata": {}
  },
  {
   "cell_type": "code",
   "execution_count": 5,
   "source": [
    "train_datagen = ImageDataGenerator(preprocessing_function=preprocess_input,\r\n",
    "                                  rotation_range=15,\r\n",
    "                                  shear_range=0.1,\r\n",
    "                                  zoom_range=0.2,\r\n",
    "                                  horizontal_flip=True,\r\n",
    "                                  width_shift_range=0.1,\r\n",
    "                                  height_shift_range=0.1)\r\n",
    "\r\n",
    "train_generator = train_datagen.flow_from_dataframe(train_df,\r\n",
    "                                                  x_col='Filepath',y_col='label',\r\n",
    "                                                  target_size=(224,224),\r\n",
    "                                                  batch_size=32,\r\n",
    "                                                  class_mode=\"categorical\")\r\n",
    "\r\n",
    "valid_datagen = ImageDataGenerator(preprocessing_function= preprocess_input)\r\n",
    "valid_generator = valid_datagen.flow_from_dataframe(val_df,\r\n",
    "                                                   x_col='Filepath',y_col='label',\r\n",
    "                                                   target_size=(224,224),\r\n",
    "                                                   batch_size=32,\r\n",
    "                                                   class_mode=\"categorical\")"
   ],
   "outputs": [
    {
     "output_type": "stream",
     "name": "stdout",
     "text": [
      "Found 3220 validated image filenames belonging to 2 classes.\n",
      "Found 1380 validated image filenames belonging to 2 classes.\n"
     ]
    }
   ],
   "metadata": {}
  },
  {
   "cell_type": "code",
   "execution_count": 6,
   "source": [
    "train_generator.class_indices"
   ],
   "outputs": [
    {
     "output_type": "execute_result",
     "data": {
      "text/plain": [
       "{'Brain Tumor': 0, 'Healthy': 1}"
      ]
     },
     "metadata": {},
     "execution_count": 6
    }
   ],
   "metadata": {}
  },
  {
   "cell_type": "code",
   "execution_count": 7,
   "source": [
    "valid_generator.class_indices"
   ],
   "outputs": [
    {
     "output_type": "execute_result",
     "data": {
      "text/plain": [
       "{'Brain Tumor': 0, 'Healthy': 1}"
      ]
     },
     "metadata": {},
     "execution_count": 7
    }
   ],
   "metadata": {}
  },
  {
   "cell_type": "code",
   "execution_count": 8,
   "source": [
    "vgg_model=tensorflow.keras.applications.vgg16.VGG16()"
   ],
   "outputs": [],
   "metadata": {}
  },
  {
   "cell_type": "code",
   "execution_count": 9,
   "source": [
    "model=Sequential()\r\n",
    "for layer in vgg_model.layers:\r\n",
    "    model.add(layer)"
   ],
   "outputs": [],
   "metadata": {}
  },
  {
   "cell_type": "code",
   "execution_count": 10,
   "source": [
    "model.summary()"
   ],
   "outputs": [
    {
     "output_type": "stream",
     "name": "stdout",
     "text": [
      "Model: \"sequential\"\n",
      "_________________________________________________________________\n",
      "Layer (type)                 Output Shape              Param #   \n",
      "=================================================================\n",
      "block1_conv1 (Conv2D)        (None, 224, 224, 64)      1792      \n",
      "_________________________________________________________________\n",
      "block1_conv2 (Conv2D)        (None, 224, 224, 64)      36928     \n",
      "_________________________________________________________________\n",
      "block1_pool (MaxPooling2D)   (None, 112, 112, 64)      0         \n",
      "_________________________________________________________________\n",
      "block2_conv1 (Conv2D)        (None, 112, 112, 128)     73856     \n",
      "_________________________________________________________________\n",
      "block2_conv2 (Conv2D)        (None, 112, 112, 128)     147584    \n",
      "_________________________________________________________________\n",
      "block2_pool (MaxPooling2D)   (None, 56, 56, 128)       0         \n",
      "_________________________________________________________________\n",
      "block3_conv1 (Conv2D)        (None, 56, 56, 256)       295168    \n",
      "_________________________________________________________________\n",
      "block3_conv2 (Conv2D)        (None, 56, 56, 256)       590080    \n",
      "_________________________________________________________________\n",
      "block3_conv3 (Conv2D)        (None, 56, 56, 256)       590080    \n",
      "_________________________________________________________________\n",
      "block3_pool (MaxPooling2D)   (None, 28, 28, 256)       0         \n",
      "_________________________________________________________________\n",
      "block4_conv1 (Conv2D)        (None, 28, 28, 512)       1180160   \n",
      "_________________________________________________________________\n",
      "block4_conv2 (Conv2D)        (None, 28, 28, 512)       2359808   \n",
      "_________________________________________________________________\n",
      "block4_conv3 (Conv2D)        (None, 28, 28, 512)       2359808   \n",
      "_________________________________________________________________\n",
      "block4_pool (MaxPooling2D)   (None, 14, 14, 512)       0         \n",
      "_________________________________________________________________\n",
      "block5_conv1 (Conv2D)        (None, 14, 14, 512)       2359808   \n",
      "_________________________________________________________________\n",
      "block5_conv2 (Conv2D)        (None, 14, 14, 512)       2359808   \n",
      "_________________________________________________________________\n",
      "block5_conv3 (Conv2D)        (None, 14, 14, 512)       2359808   \n",
      "_________________________________________________________________\n",
      "block5_pool (MaxPooling2D)   (None, 7, 7, 512)         0         \n",
      "_________________________________________________________________\n",
      "flatten (Flatten)            (None, 25088)             0         \n",
      "_________________________________________________________________\n",
      "fc1 (Dense)                  (None, 4096)              102764544 \n",
      "_________________________________________________________________\n",
      "fc2 (Dense)                  (None, 4096)              16781312  \n",
      "_________________________________________________________________\n",
      "predictions (Dense)          (None, 1000)              4097000   \n",
      "=================================================================\n",
      "Total params: 138,357,544\n",
      "Trainable params: 138,357,544\n",
      "Non-trainable params: 0\n",
      "_________________________________________________________________\n"
     ]
    }
   ],
   "metadata": {}
  },
  {
   "cell_type": "code",
   "execution_count": 11,
   "source": [
    "model.pop()"
   ],
   "outputs": [],
   "metadata": {}
  },
  {
   "cell_type": "code",
   "execution_count": 12,
   "source": [
    "model.summary()"
   ],
   "outputs": [
    {
     "output_type": "stream",
     "name": "stdout",
     "text": [
      "Model: \"sequential\"\n",
      "_________________________________________________________________\n",
      "Layer (type)                 Output Shape              Param #   \n",
      "=================================================================\n",
      "block1_conv1 (Conv2D)        (None, 224, 224, 64)      1792      \n",
      "_________________________________________________________________\n",
      "block1_conv2 (Conv2D)        (None, 224, 224, 64)      36928     \n",
      "_________________________________________________________________\n",
      "block1_pool (MaxPooling2D)   (None, 112, 112, 64)      0         \n",
      "_________________________________________________________________\n",
      "block2_conv1 (Conv2D)        (None, 112, 112, 128)     73856     \n",
      "_________________________________________________________________\n",
      "block2_conv2 (Conv2D)        (None, 112, 112, 128)     147584    \n",
      "_________________________________________________________________\n",
      "block2_pool (MaxPooling2D)   (None, 56, 56, 128)       0         \n",
      "_________________________________________________________________\n",
      "block3_conv1 (Conv2D)        (None, 56, 56, 256)       295168    \n",
      "_________________________________________________________________\n",
      "block3_conv2 (Conv2D)        (None, 56, 56, 256)       590080    \n",
      "_________________________________________________________________\n",
      "block3_conv3 (Conv2D)        (None, 56, 56, 256)       590080    \n",
      "_________________________________________________________________\n",
      "block3_pool (MaxPooling2D)   (None, 28, 28, 256)       0         \n",
      "_________________________________________________________________\n",
      "block4_conv1 (Conv2D)        (None, 28, 28, 512)       1180160   \n",
      "_________________________________________________________________\n",
      "block4_conv2 (Conv2D)        (None, 28, 28, 512)       2359808   \n",
      "_________________________________________________________________\n",
      "block4_conv3 (Conv2D)        (None, 28, 28, 512)       2359808   \n",
      "_________________________________________________________________\n",
      "block4_pool (MaxPooling2D)   (None, 14, 14, 512)       0         \n",
      "_________________________________________________________________\n",
      "block5_conv1 (Conv2D)        (None, 14, 14, 512)       2359808   \n",
      "_________________________________________________________________\n",
      "block5_conv2 (Conv2D)        (None, 14, 14, 512)       2359808   \n",
      "_________________________________________________________________\n",
      "block5_conv3 (Conv2D)        (None, 14, 14, 512)       2359808   \n",
      "_________________________________________________________________\n",
      "block5_pool (MaxPooling2D)   (None, 7, 7, 512)         0         \n",
      "_________________________________________________________________\n",
      "flatten (Flatten)            (None, 25088)             0         \n",
      "_________________________________________________________________\n",
      "fc1 (Dense)                  (None, 4096)              102764544 \n",
      "_________________________________________________________________\n",
      "fc2 (Dense)                  (None, 4096)              16781312  \n",
      "=================================================================\n",
      "Total params: 134,260,544\n",
      "Trainable params: 134,260,544\n",
      "Non-trainable params: 0\n",
      "_________________________________________________________________\n"
     ]
    }
   ],
   "metadata": {}
  },
  {
   "cell_type": "code",
   "execution_count": 13,
   "source": [
    "for layer in model.layers:\r\n",
    "    layer.trainable=False"
   ],
   "outputs": [],
   "metadata": {}
  },
  {
   "cell_type": "code",
   "execution_count": 14,
   "source": [
    "model.add(Dense(2,activation='softmax'))\r\n",
    "model.summary()"
   ],
   "outputs": [
    {
     "output_type": "stream",
     "name": "stdout",
     "text": [
      "Model: \"sequential\"\n",
      "_________________________________________________________________\n",
      "Layer (type)                 Output Shape              Param #   \n",
      "=================================================================\n",
      "block1_conv1 (Conv2D)        (None, 224, 224, 64)      1792      \n",
      "_________________________________________________________________\n",
      "block1_conv2 (Conv2D)        (None, 224, 224, 64)      36928     \n",
      "_________________________________________________________________\n",
      "block1_pool (MaxPooling2D)   (None, 112, 112, 64)      0         \n",
      "_________________________________________________________________\n",
      "block2_conv1 (Conv2D)        (None, 112, 112, 128)     73856     \n",
      "_________________________________________________________________\n",
      "block2_conv2 (Conv2D)        (None, 112, 112, 128)     147584    \n",
      "_________________________________________________________________\n",
      "block2_pool (MaxPooling2D)   (None, 56, 56, 128)       0         \n",
      "_________________________________________________________________\n",
      "block3_conv1 (Conv2D)        (None, 56, 56, 256)       295168    \n",
      "_________________________________________________________________\n",
      "block3_conv2 (Conv2D)        (None, 56, 56, 256)       590080    \n",
      "_________________________________________________________________\n",
      "block3_conv3 (Conv2D)        (None, 56, 56, 256)       590080    \n",
      "_________________________________________________________________\n",
      "block3_pool (MaxPooling2D)   (None, 28, 28, 256)       0         \n",
      "_________________________________________________________________\n",
      "block4_conv1 (Conv2D)        (None, 28, 28, 512)       1180160   \n",
      "_________________________________________________________________\n",
      "block4_conv2 (Conv2D)        (None, 28, 28, 512)       2359808   \n",
      "_________________________________________________________________\n",
      "block4_conv3 (Conv2D)        (None, 28, 28, 512)       2359808   \n",
      "_________________________________________________________________\n",
      "block4_pool (MaxPooling2D)   (None, 14, 14, 512)       0         \n",
      "_________________________________________________________________\n",
      "block5_conv1 (Conv2D)        (None, 14, 14, 512)       2359808   \n",
      "_________________________________________________________________\n",
      "block5_conv2 (Conv2D)        (None, 14, 14, 512)       2359808   \n",
      "_________________________________________________________________\n",
      "block5_conv3 (Conv2D)        (None, 14, 14, 512)       2359808   \n",
      "_________________________________________________________________\n",
      "block5_pool (MaxPooling2D)   (None, 7, 7, 512)         0         \n",
      "_________________________________________________________________\n",
      "flatten (Flatten)            (None, 25088)             0         \n",
      "_________________________________________________________________\n",
      "fc1 (Dense)                  (None, 4096)              102764544 \n",
      "_________________________________________________________________\n",
      "fc2 (Dense)                  (None, 4096)              16781312  \n",
      "_________________________________________________________________\n",
      "dense (Dense)                (None, 2)                 8194      \n",
      "=================================================================\n",
      "Total params: 134,268,738\n",
      "Trainable params: 8,194\n",
      "Non-trainable params: 134,260,544\n",
      "_________________________________________________________________\n"
     ]
    }
   ],
   "metadata": {}
  },
  {
   "cell_type": "code",
   "execution_count": 15,
   "source": [
    "model.compile(optimizer=keras.optimizers.Adam(0.0001),loss='categorical_crossentropy',metrics=['accuracy'])"
   ],
   "outputs": [],
   "metadata": {}
  },
  {
   "cell_type": "code",
   "execution_count": 16,
   "source": [
    "history= model.fit_generator(train_generator,\r\n",
    "                   epochs=20,\r\n",
    "                   validation_data=valid_generator,\r\n",
    "                   validation_steps= total_valid//32,\r\n",
    "                   steps_per_epoch= total_train//32)"
   ],
   "outputs": [
    {
     "output_type": "stream",
     "name": "stderr",
     "text": [
      "C:\\Users\\ASUS\\AppData\\Local\\Programs\\Python\\Python39\\lib\\site-packages\\tensorflow\\python\\keras\\engine\\training.py:1940: UserWarning: `Model.fit_generator` is deprecated and will be removed in a future version. Please use `Model.fit`, which supports generators.\n",
      "  warnings.warn('`Model.fit_generator` is deprecated and '\n"
     ]
    },
    {
     "output_type": "stream",
     "name": "stdout",
     "text": [
      "Epoch 1/20\n",
      "100/100 [==============================] - 58s 490ms/step - loss: 0.6576 - accuracy: 0.6631 - val_loss: 0.4649 - val_accuracy: 0.7754\n",
      "Epoch 2/20\n",
      "100/100 [==============================] - 43s 431ms/step - loss: 0.3901 - accuracy: 0.8287 - val_loss: 0.3643 - val_accuracy: 0.8467\n",
      "Epoch 3/20\n",
      "100/100 [==============================] - 43s 433ms/step - loss: 0.3288 - accuracy: 0.8607 - val_loss: 0.3230 - val_accuracy: 0.8677\n",
      "Epoch 4/20\n",
      "100/100 [==============================] - 43s 431ms/step - loss: 0.2886 - accuracy: 0.8821 - val_loss: 0.2935 - val_accuracy: 0.8779\n",
      "Epoch 5/20\n",
      "100/100 [==============================] - 43s 432ms/step - loss: 0.2775 - accuracy: 0.8883 - val_loss: 0.2743 - val_accuracy: 0.8932\n",
      "Epoch 6/20\n",
      "100/100 [==============================] - 42s 416ms/step - loss: 0.2571 - accuracy: 0.8952 - val_loss: 0.2637 - val_accuracy: 0.8961\n",
      "Epoch 7/20\n",
      "100/100 [==============================] - 43s 432ms/step - loss: 0.2572 - accuracy: 0.8981 - val_loss: 0.2468 - val_accuracy: 0.9070\n",
      "Epoch 8/20\n",
      "100/100 [==============================] - 43s 430ms/step - loss: 0.2362 - accuracy: 0.9024 - val_loss: 0.2393 - val_accuracy: 0.9084\n",
      "Epoch 9/20\n",
      "100/100 [==============================] - 43s 432ms/step - loss: 0.2267 - accuracy: 0.9141 - val_loss: 0.2308 - val_accuracy: 0.9121\n",
      "Epoch 10/20\n",
      "100/100 [==============================] - 43s 433ms/step - loss: 0.2215 - accuracy: 0.9141 - val_loss: 0.2206 - val_accuracy: 0.9186\n",
      "Epoch 11/20\n",
      "100/100 [==============================] - 44s 439ms/step - loss: 0.2084 - accuracy: 0.9222 - val_loss: 0.2233 - val_accuracy: 0.9157\n",
      "Epoch 12/20\n",
      "100/100 [==============================] - 42s 419ms/step - loss: 0.1944 - accuracy: 0.9244 - val_loss: 0.2148 - val_accuracy: 0.9186\n",
      "Epoch 13/20\n",
      "100/100 [==============================] - 43s 428ms/step - loss: 0.1958 - accuracy: 0.9238 - val_loss: 0.2068 - val_accuracy: 0.9237\n",
      "Epoch 14/20\n",
      "100/100 [==============================] - 42s 422ms/step - loss: 0.1891 - accuracy: 0.9263 - val_loss: 0.1995 - val_accuracy: 0.9266\n",
      "Epoch 15/20\n",
      "100/100 [==============================] - 43s 427ms/step - loss: 0.1957 - accuracy: 0.9247 - val_loss: 0.1932 - val_accuracy: 0.9295\n",
      "Epoch 16/20\n",
      "100/100 [==============================] - 41s 412ms/step - loss: 0.1669 - accuracy: 0.9385 - val_loss: 0.1916 - val_accuracy: 0.9273\n",
      "Epoch 17/20\n",
      "100/100 [==============================] - 41s 410ms/step - loss: 0.1707 - accuracy: 0.9360 - val_loss: 0.1881 - val_accuracy: 0.9302\n",
      "Epoch 18/20\n",
      "100/100 [==============================] - 43s 431ms/step - loss: 0.1788 - accuracy: 0.9329 - val_loss: 0.1864 - val_accuracy: 0.9339\n",
      "Epoch 19/20\n",
      "100/100 [==============================] - 40s 403ms/step - loss: 0.1634 - accuracy: 0.9366 - val_loss: 0.1797 - val_accuracy: 0.9324\n",
      "Epoch 20/20\n",
      "100/100 [==============================] - 42s 417ms/step - loss: 0.1577 - accuracy: 0.9426 - val_loss: 0.1826 - val_accuracy: 0.9324\n"
     ]
    }
   ],
   "metadata": {}
  },
  {
   "cell_type": "code",
   "execution_count": 17,
   "source": [
    "from tensorflow.keras.models import save_model\r\n",
    "save_model(model, \"tumor_detector.h5\")"
   ],
   "outputs": [],
   "metadata": {}
  },
  {
   "cell_type": "code",
   "execution_count": null,
   "source": [],
   "outputs": [],
   "metadata": {}
  },
  {
   "cell_type": "code",
   "execution_count": null,
   "source": [],
   "outputs": [],
   "metadata": {}
  }
 ],
 "metadata": {
  "kernelspec": {
   "name": "python3",
   "display_name": "Python 3.9.6 64-bit"
  },
  "language_info": {
   "codemirror_mode": {
    "name": "ipython",
    "version": 3
   },
   "file_extension": ".py",
   "mimetype": "text/x-python",
   "name": "python",
   "nbconvert_exporter": "python",
   "pygments_lexer": "ipython3",
   "version": "3.9.6"
  },
  "interpreter": {
   "hash": "8da01e5a71448ea74f54d88afa8911010d1d12e23bc7e103d40d5def4a09152c"
  }
 },
 "nbformat": 4,
 "nbformat_minor": 5
}